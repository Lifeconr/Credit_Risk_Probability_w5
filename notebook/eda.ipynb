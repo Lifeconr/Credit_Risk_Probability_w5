{
 "cells": [
  {
   "cell_type": "markdown",
   "id": "243d7883",
   "metadata": {},
   "source": [
    "## 1. Setup and Data Loading"
   ]
  },
  {
   "cell_type": "code",
   "execution_count": null,
   "id": "46e3c3e0",
   "metadata": {},
   "outputs": [
    {
     "ename": "",
     "evalue": "",
     "output_type": "error",
     "traceback": [
      "\u001b[1;31mFailed to start the Kernel. \n",
      "\u001b[1;31mUnable to start Kernel 'venv (Python 3.11.4)' due to a timeout waiting for the ports to get used. \n",
      "\u001b[1;31mView Jupyter <a href='command:jupyter.viewOutput'>log</a> for further details."
     ]
    }
   ],
   "source": [
    "import pandas as pd\n",
    "import numpy as np\n",
    "import matplotlib.pyplot as plt\n",
    "import seaborn as sns\n",
    "import sys\n",
    "from datetime import datetime\n",
    "\n",
    "# Add src directory to path to import our modules\n",
    "sys.path.append('../src')\n",
    "from data_processing import load_data, preprocess_data, generate_rfms_features, create_risk_proxy, get_feature_correlations\n",
    "\n",
    "# Set plot style\n",
    "sns.set_style('whitegrid')\n",
    "plt.rcParams['figure.figsize'] = (12, 6)"
   ]
  },
  {
   "cell_type": "code",
   "execution_count": null,
   "id": "a891ef2a",
   "metadata": {},
   "outputs": [
    {
     "ename": "",
     "evalue": "",
     "output_type": "error",
     "traceback": [
      "\u001b[1;31mFailed to start the Kernel. \n",
      "\u001b[1;31mUnable to start Kernel 'venv (Python 3.11.4)' due to a timeout waiting for the ports to get used. \n",
      "\u001b[1;31mView Jupyter <a href='command:jupyter.viewOutput'>log</a> for further details."
     ]
    }
   ],
   "source": [
    "\n",
    "# Load and preprocess the data\n",
    "DATA_PATH = '../data/raw/Xente_Train.csv'  # Adjust path as needed\n",
    "raw_df = load_data(DATA_PATH)\n",
    "df = preprocess_data(raw_df)"
   ]
  },
  {
   "cell_type": "markdown",
   "id": "4eda84ee",
   "metadata": {},
   "source": [
    "# Cell 5 - Markdown\n",
    "## 2. Overview of the Data\n",
    "# \n",
    "# Understand the structure of the dataset, including the number of rows, columns, data types, and missing values."
   ]
  },
  {
   "cell_type": "code",
   "execution_count": null,
   "id": "4d8c5810",
   "metadata": {},
   "outputs": [],
   "source": [
    "\n",
    "print(f\"Dataset shape: {df.shape}\")\n",
    "print(\"\\nData Types:\")\n",
    "print(df.info())\n",
    "\n",
    "print(\"\\nMissing Values (%):\")\n",
    "print(df.isnull().sum() / len(df) * 100)"
   ]
  },
  {
   "cell_type": "code",
   "execution_count": null,
   "id": "be488405",
   "metadata": {},
   "outputs": [],
   "source": [
    "## 3. Feature Engineering: RFMS + Proxy Variable\n",
    "# \n",
    "# Now we'll use our processing functions to engineer the behavioral features and create the risk proxy. This is the core of our analysis."
   ]
  },
  {
   "cell_type": "code",
   "execution_count": null,
   "id": "8b63f27e",
   "metadata": {},
   "outputs": [],
   "source": [
    "# Define a snapshot date for recency calculation (e.g., one day after the last transaction)\n",
    "snapshot_date = df['TransactionStartTime'].max() + pd.Timedelta(days=1)\n",
    "\n",
    "# Generate RFMS features\n",
    "rfms_features = generate_rfms_features(df, snapshot_date)\n",
    "\n",
    "# Create the risk proxy\n",
    "# We need the fraud result from the original dataframe for this\n",
    "fraud_data = df[['CustomerId', 'FraudResult']]\n",
    "final_features_df = create_risk_proxy(rfms_features, fraud_data)\n",
    "\n",
    "print(\"Generated Features and Proxy Variable DataFrame:\")\n",
    "final_features_df.head()"
   ]
  },
  {
   "cell_type": "markdown",
   "id": "2afa4e20",
   "metadata": {},
   "source": [
    "## 4. Distribution of Engineered Features\n",
    "# \n",
    "# Let's visualize the distributions of our new `Recency`, `Frequency`, `Monetary`, and `Std_Dev_Amount` features."
   ]
  },
  {
   "cell_type": "code",
   "execution_count": null,
   "id": "a7626f06",
   "metadata": {},
   "outputs": [],
   "source": [
    "\n",
    "fig, axes = plt.subplots(2, 2, figsize=(16, 12))\n",
    "fig.suptitle('Distribution of Engineered RFMS Features', fontsize=16)\n",
    "\n",
    "sns.histplot(final_features_df['Recency'], ax=axes[0, 0], kde=True, bins=50).set_title('Recency Distribution')\n",
    "sns.histplot(final_features_df['Frequency'], ax=axes[0, 1], kde=True, bins=50).set_title('Frequency Distribution (Log Scale)')\n",
    "axes[0, 1].set_xscale('log')  # Frequency is often highly skewed\n",
    "\n",
    "sns.histplot(final_features_df['Monetary'], ax=axes[1, 0], kde=True, bins=50).set_title('Monetary Distribution (Log Scale)')\n",
    "axes[1, 0].set_xscale('log')  # Monetary is often highly skewed\n",
    "\n",
    "sns.histplot(final_features_df['Std_Dev_Amount'], ax=axes[1, 1], kde=True, bins=50).set_title('Spending Volatility (Std. Dev.)')\n",
    "\n",
    "plt.tight_layout(rect=[0, 0.03, 1, 0.95])\n",
    "plt.show()"
   ]
  },
  {
   "cell_type": "markdown",
   "id": "a272fcac",
   "metadata": {},
   "source": [
    "\n",
    "### Box Plots for Outlier Detection"
   ]
  },
  {
   "cell_type": "code",
   "execution_count": null,
   "id": "1a094ca1",
   "metadata": {},
   "outputs": [],
   "source": [
    "\n",
    "fig, axes = plt.subplots(1, 4, figsize=(20, 5))\n",
    "fig.suptitle('Outlier Analysis using Box Plots', fontsize=16)\n",
    "sns.boxplot(y=final_features_df['Recency'], ax=axes[0])\n",
    "sns.boxplot(y=final_features_df['Frequency'], ax=axes[1])\n",
    "sns.boxplot(y=final_features_df['Monetary'], ax=axes[2])\n",
    "sns.boxplot(y=final_features_df['Std_Dev_Amount'], ax=axes[3])\n",
    "plt.tight_layout(rect=[0, 0.03, 1, 0.95])\n",
    "plt.show()"
   ]
  },
  {
   "cell_type": "markdown",
   "id": "8d0b8738",
   "metadata": {},
   "source": [
    "\n",
    "## 5. Feature Correlation with Risk Proxy\n",
    "# \n",
    "# This is a critical step to validate our feature engineering. We need to see if the features we created have a strong relationship with the `high_risk` proxy variable. This will inform our feature selection for the model."
   ]
  },
  {
   "cell_type": "code",
   "execution_count": null,
   "id": "e4d3f00c",
   "metadata": {},
   "outputs": [],
   "source": [
    "# Cell 14 - Code\n",
    "feature_corr = get_feature_correlations(final_features_df[['Recency', 'Frequency', 'Monetary', 'Std_Dev_Amount', 'high_risk']], 'high_risk')\n",
    "\n",
    "plt.figure(figsize=(8, 6))\n",
    "sns.heatmap(feature_corr, annot=True, cmap='coolwarm', fmt='.2f')\n",
    "plt.title('Correlation of RFMS Features with High-Risk Proxy')\n",
    "plt.show()\n",
    "\n",
    "print(\"Correlation values:\")\n",
    "print(feature_corr)"
   ]
  }
 ],
 "metadata": {
  "kernelspec": {
   "display_name": "venv",
   "language": "python",
   "name": "python3"
  },
  "language_info": {
   "name": "python",
   "version": "3.11.4"
  }
 },
 "nbformat": 4,
 "nbformat_minor": 5
}
